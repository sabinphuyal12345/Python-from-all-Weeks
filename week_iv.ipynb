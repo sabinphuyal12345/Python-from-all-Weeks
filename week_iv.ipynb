{
 "cells": [
  {
   "cell_type": "code",
   "execution_count": 1,
   "metadata": {},
   "outputs": [
    {
     "name": "stdout",
     "output_type": "stream",
     "text": [
      "Hello From My Function !\n"
     ]
    }
   ],
   "source": [
    "def my_function():\n",
    "    print(\"Hello From My Function !\")\n",
    "    \n",
    "y = my_function()"
   ]
  },
  {
   "cell_type": "code",
   "execution_count": 2,
   "metadata": {},
   "outputs": [
    {
     "name": "stdout",
     "output_type": "stream",
     "text": [
      "Hello, sam , From My function!, I wish you a good day!\n"
     ]
    }
   ],
   "source": [
    "def my_function_with_args(username, greeting):\n",
    "    print(\"Hello, %s , From My function!, I wish you %s\"%(username, greeting))\n",
    "\n",
    "my_function_with_args(\"sam\",\"a good day!\")"
   ]
  },
  {
   "cell_type": "code",
   "execution_count": 3,
   "metadata": {},
   "outputs": [
    {
     "name": "stdout",
     "output_type": "stream",
     "text": [
      "22\n"
     ]
    }
   ],
   "source": [
    "def sum_two_numbers(a,b):\n",
    "    return a+b\n",
    "y = sum_two_numbers(5,17)\n",
    "print(y)"
   ]
  },
  {
   "cell_type": "code",
   "execution_count": null,
   "metadata": {},
   "outputs": [
    {
     "name": "stdout",
     "output_type": "stream",
     "text": [
      "Hello From my function !\n"
     ]
    }
   ],
   "source": [
    "#Define our 3 functions\n",
    "\n",
    "def my_function():\n",
    "    print(\"Hello From my function !\")\n",
    "\n",
    "my_function()"
   ]
  },
  {
   "cell_type": "code",
   "execution_count": 5,
   "metadata": {},
   "outputs": [
    {
     "name": "stdout",
     "output_type": "stream",
     "text": [
      "Hello, John Doe, From My Function!, I wish you a great year!\n"
     ]
    }
   ],
   "source": [
    "def my_function_with_args(username,greeting):\n",
    "    print(\"Hello, %s, From My Function!, I wish you %s\"%(username,greeting))\n",
    "\n",
    "my_function_with_args(\"John Doe\", \"a great year!\")"
   ]
  },
  {
   "cell_type": "code",
   "execution_count": 6,
   "metadata": {},
   "outputs": [
    {
     "name": "stdout",
     "output_type": "stream",
     "text": [
      "3\n"
     ]
    }
   ],
   "source": [
    "def sum_two_numbers(a,b):\n",
    "    return a+b\n",
    "\n",
    "x = sum_two_numbers(1,2)\n",
    "print(x)"
   ]
  },
  {
   "cell_type": "code",
   "execution_count": null,
   "metadata": {},
   "outputs": [],
   "source": [
    "#Exercise \n",
    "\n",
    "def list_benefits():\n",
    "   lst = [\n",
    "    \"More Organized Code\",\n",
    "    \"More Readable\",\n",
    "    \"Easier Code Reuse\",\n",
    "    \"Allowing Programmers to share and connect code together\"\n",
    "   ]\n",
    "\n",
    "   return lst\n",
    "\n",
    "def build_sentences(info):\n",
    "    complete_sentences = info+\"is a benefit of function!\"\n",
    "    return complete_sentences\n",
    "\n",
    "\n",
    "def name_the_benefits_of_functions():\n",
    "    listA = list_benefits()\n",
    "\n",
    "    for x in listA:\n",
    "        print(build_sentences(x))\n",
    "\n",
    "    name_the_benefits_of_functions()"
   ]
  },
  {
   "cell_type": "code",
   "execution_count": 22,
   "metadata": {},
   "outputs": [
    {
     "name": "stdout",
     "output_type": "stream",
     "text": [
      "0\n",
      "11\n"
     ]
    }
   ],
   "source": [
    "def add_numbers(first_num=0,second_num=0):\n",
    "    return first_num+second_num\n",
    "print(add_numbers())\n",
    "print(add_numbers(7,4))"
   ]
  },
  {
   "cell_type": "code",
   "execution_count": 25,
   "metadata": {},
   "outputs": [
    {
     "name": "stdout",
     "output_type": "stream",
     "text": [
      "The First number is: 7\n",
      "The Second number is:4\n",
      "11\n",
      "The First number is: 0\n",
      "The Second number is:4\n",
      "4\n"
     ]
    }
   ],
   "source": [
    "#Keyword Arguments\n",
    "\n",
    "def add_numbers(first_num=0,second_num=0):\n",
    "    print(f\"The First number is: {first_num}\")\n",
    "    print(f\"The Second number is:{second_num}\")\n",
    "    return first_num+second_num\n",
    "print(add_numbers(first_num=7,second_num=4))\n",
    "print(add_numbers(second_num=4))"
   ]
  },
  {
   "cell_type": "code",
   "execution_count": 26,
   "metadata": {},
   "outputs": [
    {
     "name": "stdout",
     "output_type": "stream",
     "text": [
      "hello\n",
      "hello world\n",
      "hello world from TBC\n"
     ]
    }
   ],
   "source": [
    "print(\"hello\")\n",
    "print(\"hello\",\"world\")\n",
    "print(\"hello\",\"world\",\"from\",\"TBC\")"
   ]
  },
  {
   "cell_type": "code",
   "execution_count": 27,
   "metadata": {},
   "outputs": [
    {
     "name": "stdout",
     "output_type": "stream",
     "text": [
      "home/\n",
      "home/\n"
     ]
    }
   ],
   "source": [
    "def make_path(*names):\n",
    "    result = \"\"\n",
    "    for name in names:\n",
    "        result += name + \"/\"\n",
    "        return result\n",
    "\n",
    "print(make_path(\"home\",\"docs\"))\n",
    "print(make_path(\"home\",\"code\",\"python\",\"sorter\"))"
   ]
  },
  {
   "cell_type": "code",
   "execution_count": 29,
   "metadata": {},
   "outputs": [],
   "source": [
    "#Arbitrary Keyword Arguments\n",
    "\n",
    "def show_details(title=\"Details\", **info):\n",
    "    print(title)\n",
    "    for name in info:\n",
    "        print(name, \":\", info[name])\n",
    "    \n",
    "    show_details(title=\"warning\")\n",
    "    show_details(msg=\"file created\",err=\"no issues\")\n",
    "    show_details(title=\"error\", reason=\"disk full\")\n",
    "    "
   ]
  },
  {
   "cell_type": "code",
   "execution_count": 30,
   "metadata": {},
   "outputs": [
    {
     "data": {
      "text/plain": [
       "9"
      ]
     },
     "execution_count": 30,
     "metadata": {},
     "output_type": "execute_result"
    }
   ],
   "source": [
    "#map function\n",
    "\n",
    "def square(num):\n",
    "    return num**2\n",
    "square(3)"
   ]
  },
  {
   "cell_type": "code",
   "execution_count": 31,
   "metadata": {},
   "outputs": [
    {
     "name": "stdout",
     "output_type": "stream",
     "text": [
      "1\n",
      "4\n",
      "9\n",
      "16\n",
      "25\n"
     ]
    }
   ],
   "source": [
    "my_nums = [1,2,3,4,5]\n",
    "for n in my_nums:\n",
    "    print(square(n))"
   ]
  },
  {
   "cell_type": "code",
   "execution_count": 32,
   "metadata": {},
   "outputs": [
    {
     "data": {
      "text/plain": [
       "[1, 4, 9, 16, 25]"
      ]
     },
     "execution_count": 32,
     "metadata": {},
     "output_type": "execute_result"
    }
   ],
   "source": [
    "my_nums = [1,2,3,4,5]\n",
    "list(map(square,my_nums))"
   ]
  },
  {
   "cell_type": "code",
   "execution_count": 33,
   "metadata": {},
   "outputs": [
    {
     "data": {
      "text/plain": [
       "['even', 'C', 'S', 'K', 'even']"
      ]
     },
     "execution_count": 33,
     "metadata": {},
     "output_type": "execute_result"
    }
   ],
   "source": [
    "def splicer(mystring):\n",
    "    if len(mystring)%2==0:\n",
    "        return \"even\"\n",
    "    else:\n",
    "        return mystring[0]\n",
    "    \n",
    "mynames = [\"John\",\"Cindy\",\"Sarah\",\"Kelly\",\"Mike\"]\n",
    "list(map(splicer,mynames))"
   ]
  },
  {
   "cell_type": "code",
   "execution_count": 34,
   "metadata": {},
   "outputs": [
    {
     "data": {
      "text/plain": [
       "4"
      ]
     },
     "execution_count": 34,
     "metadata": {},
     "output_type": "execute_result"
    }
   ],
   "source": [
    "#lambda\n",
    "\n",
    "def square(num):\n",
    "    result = num**2\n",
    "    return result\n",
    "\n",
    "square(2)\n"
   ]
  },
  {
   "cell_type": "code",
   "execution_count": 35,
   "metadata": {},
   "outputs": [
    {
     "data": {
      "text/plain": [
       "4"
      ]
     },
     "execution_count": 35,
     "metadata": {},
     "output_type": "execute_result"
    }
   ],
   "source": [
    "def square(num):\n",
    "    return num**2\n",
    "square(2)"
   ]
  },
  {
   "cell_type": "code",
   "execution_count": 37,
   "metadata": {},
   "outputs": [
    {
     "data": {
      "text/plain": [
       "9"
      ]
     },
     "execution_count": 37,
     "metadata": {},
     "output_type": "execute_result"
    }
   ],
   "source": [
    "def square(num): num **2\n",
    "square_l = lambda num :num **2\n",
    "square_l(3)"
   ]
  },
  {
   "cell_type": "code",
   "execution_count": 38,
   "metadata": {},
   "outputs": [
    {
     "data": {
      "text/plain": [
       "[1, 4, 9, 16, 25]"
      ]
     },
     "execution_count": 38,
     "metadata": {},
     "output_type": "execute_result"
    }
   ],
   "source": [
    "my_nums = [1,2,3,4,5]\n",
    "\n",
    "def square(num):\n",
    "    return num**2\n",
    "list(map(square,my_nums))\n",
    "list(map(lambda x: x ** 2,my_nums))"
   ]
  },
  {
   "cell_type": "code",
   "execution_count": 43,
   "metadata": {},
   "outputs": [
    {
     "data": {
      "text/plain": [
       "[<function str.upper()>,\n",
       " <function str.upper()>,\n",
       " <function str.upper()>,\n",
       " <function str.upper()>,\n",
       " <function str.upper()>]"
      ]
     },
     "execution_count": 43,
     "metadata": {},
     "output_type": "execute_result"
    }
   ],
   "source": [
    "names = [\"Swikrit Thapa\",\"Arju Sharma\",\"Mavira KC\",\"Nistha Acharya\",\"Hingish Limbu\"]\n",
    "lambda s: s[0]\n",
    "list(map(lambda s:s[0],names))\n",
    "\n",
    "list(map(lambda s: \" \".join(s.split()[::-1]),names))\n",
    "list(map(lambda s:s.upper,names))"
   ]
  },
  {
   "cell_type": "code",
   "execution_count": 44,
   "metadata": {},
   "outputs": [
    {
     "data": {
      "text/plain": [
       "<function __main__.<lambda>(s)>"
      ]
     },
     "execution_count": 44,
     "metadata": {},
     "output_type": "execute_result"
    }
   ],
   "source": [
    "lambda s:s[::-1]\n"
   ]
  },
  {
   "cell_type": "code",
   "execution_count": 45,
   "metadata": {},
   "outputs": [
    {
     "data": {
      "text/plain": [
       "['apahT tirkiwS',\n",
       " 'amrahS ujrA',\n",
       " 'CK arivaM',\n",
       " 'ayrahcA ahtsiN',\n",
       " 'ubmiL hsigniH']"
      ]
     },
     "execution_count": 45,
     "metadata": {},
     "output_type": "execute_result"
    }
   ],
   "source": [
    "list(map(lambda s:s[::-1],names))"
   ]
  },
  {
   "cell_type": "code",
   "execution_count": 46,
   "metadata": {},
   "outputs": [
    {
     "data": {
      "text/plain": [
       "5"
      ]
     },
     "execution_count": 46,
     "metadata": {},
     "output_type": "execute_result"
    }
   ],
   "source": [
    "ans = lambda x,y : x+y\n",
    "ans(2,3)"
   ]
  },
  {
   "cell_type": "code",
   "execution_count": null,
   "metadata": {},
   "outputs": [],
   "source": []
  }
 ],
 "metadata": {
  "kernelspec": {
   "display_name": "Python 3",
   "language": "python",
   "name": "python3"
  },
  "language_info": {
   "codemirror_mode": {
    "name": "ipython",
    "version": 3
   },
   "file_extension": ".py",
   "mimetype": "text/x-python",
   "name": "python",
   "nbconvert_exporter": "python",
   "pygments_lexer": "ipython3",
   "version": "3.13.0"
  }
 },
 "nbformat": 4,
 "nbformat_minor": 2
}
