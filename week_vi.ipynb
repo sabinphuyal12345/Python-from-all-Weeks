{
 "cells": [
  {
   "cell_type": "code",
   "execution_count": 7,
   "metadata": {},
   "outputs": [
    {
     "name": "stdout",
     "output_type": "stream",
     "text": [
      "<_io.TextIOWrapper name='original.txt' mode='r' encoding='cp1252'>\n"
     ]
    }
   ],
   "source": [
    "#File Handling\n",
    "\n",
    "myfile = open(\"original.txt\")\n",
    "print(myfile)"
   ]
  },
  {
   "cell_type": "code",
   "execution_count": 11,
   "metadata": {},
   "outputs": [
    {
     "data": {
      "text/plain": [
       "'hey'"
      ]
     },
     "execution_count": 11,
     "metadata": {},
     "output_type": "execute_result"
    }
   ],
   "source": [
    "my_file = open(\"original.txt\",\"r\")\n",
    "my_file.read()"
   ]
  },
  {
   "cell_type": "code",
   "execution_count": 12,
   "metadata": {},
   "outputs": [
    {
     "data": {
      "text/plain": [
       "7"
      ]
     },
     "execution_count": 12,
     "metadata": {},
     "output_type": "execute_result"
    }
   ],
   "source": [
    "#Seek to the start of file (index 0)\n",
    "my_file.seek(7)"
   ]
  },
  {
   "cell_type": "code",
   "execution_count": 13,
   "metadata": {},
   "outputs": [
    {
     "data": {
      "text/plain": [
       "\"\\nhello\\nwhat's up\\n\""
      ]
     },
     "execution_count": 13,
     "metadata": {},
     "output_type": "execute_result"
    }
   ],
   "source": [
    "my_file.read()"
   ]
  },
  {
   "cell_type": "code",
   "execution_count": 15,
   "metadata": {},
   "outputs": [
    {
     "data": {
      "text/plain": [
       "'he'"
      ]
     },
     "execution_count": 15,
     "metadata": {},
     "output_type": "execute_result"
    }
   ],
   "source": [
    "#ReadLines returns a list of the lines in the file\n",
    "\n",
    "my_file.seek(0)\n",
    "my_file.readline(2)"
   ]
  },
  {
   "cell_type": "code",
   "execution_count": 16,
   "metadata": {},
   "outputs": [
    {
     "data": {
      "text/plain": [
       "'y\\n'"
      ]
     },
     "execution_count": 16,
     "metadata": {},
     "output_type": "execute_result"
    }
   ],
   "source": [
    "my_file.readline()"
   ]
  },
  {
   "cell_type": "code",
   "execution_count": 17,
   "metadata": {},
   "outputs": [],
   "source": [
    "my_file.close()"
   ]
  },
  {
   "cell_type": "code",
   "execution_count": 18,
   "metadata": {},
   "outputs": [
    {
     "name": "stdout",
     "output_type": "stream",
     "text": [
      "hi\n",
      "\n"
     ]
    }
   ],
   "source": [
    "f = open(\"original.txt\",\"r\")\n",
    "list_of_lines = f.readlines()\n",
    "print(list_of_lines[1])\n",
    "f.close()"
   ]
  },
  {
   "cell_type": "code",
   "execution_count": 21,
   "metadata": {},
   "outputs": [],
   "source": [
    "#Writing to a file\n",
    "\n",
    "#Add a second argument to the function, \"w\" which stands for write\n",
    "#Passing \"w+\" let's us read and write to the file\n",
    "\n",
    "my_file = open(\"test.txt\",\"w+\")\n"
   ]
  },
  {
   "cell_type": "code",
   "execution_count": 22,
   "metadata": {},
   "outputs": [
    {
     "data": {
      "text/plain": [
       "18"
      ]
     },
     "execution_count": 22,
     "metadata": {},
     "output_type": "execute_result"
    }
   ],
   "source": [
    "#Write to the file\n",
    "my_file.write(\"This is a new line\")"
   ]
  },
  {
   "cell_type": "code",
   "execution_count": 23,
   "metadata": {},
   "outputs": [
    {
     "data": {
      "text/plain": [
       "'This is a new line'"
      ]
     },
     "execution_count": 23,
     "metadata": {},
     "output_type": "execute_result"
    }
   ],
   "source": [
    "#Read The file\n",
    "my_file.seek(0)\n",
    "my_file.read()"
   ]
  },
  {
   "cell_type": "code",
   "execution_count": 24,
   "metadata": {},
   "outputs": [],
   "source": [
    "my_file.close()"
   ]
  },
  {
   "cell_type": "code",
   "execution_count": 25,
   "metadata": {},
   "outputs": [],
   "source": [
    "f_new = open(\"test.txt\",\"w+\")\n",
    "f_new.write(\"\\nHello File!\")\n",
    "f_new.close()"
   ]
  },
  {
   "cell_type": "code",
   "execution_count": 26,
   "metadata": {},
   "outputs": [],
   "source": [
    "my_file = open(\"test.txt\",\"a+\")\n",
    "my_file.write(\"\\nthird line\")\n",
    "my_file.close()"
   ]
  },
  {
   "cell_type": "code",
   "execution_count": 27,
   "metadata": {},
   "outputs": [
    {
     "data": {
      "text/plain": [
       "23"
      ]
     },
     "execution_count": 27,
     "metadata": {},
     "output_type": "execute_result"
    }
   ],
   "source": [
    "#Appending to a file\n",
    "\n",
    "my_file = open(\"test.txt\",\"a+\")\n",
    "my_file.write(\"\\nThis is text being appended to test.txt\")\n",
    "my_file.write(\"\\nAnd another line here.\")"
   ]
  },
  {
   "cell_type": "code",
   "execution_count": 28,
   "metadata": {},
   "outputs": [
    {
     "name": "stdout",
     "output_type": "stream",
     "text": [
      "\n",
      "Hello File!\n",
      "third line\n",
      "This is text being appended to test.txt\n",
      "And another line here.\n"
     ]
    }
   ],
   "source": [
    "my_file.seek(0)\n",
    "print(my_file.read())"
   ]
  },
  {
   "cell_type": "code",
   "execution_count": 29,
   "metadata": {},
   "outputs": [],
   "source": [
    "my_file.close()"
   ]
  },
  {
   "cell_type": "code",
   "execution_count": 36,
   "metadata": {},
   "outputs": [
    {
     "ename": "SyntaxError",
     "evalue": "invalid syntax (2583168632.py, line 5)",
     "output_type": "error",
     "traceback": [
      "\u001b[1;36m  Cell \u001b[1;32mIn[36], line 5\u001b[1;36m\u001b[0m\n\u001b[1;33m    This is text being appended to test.txt\u001b[0m\n\u001b[1;37m                 ^\u001b[0m\n\u001b[1;31mSyntaxError\u001b[0m\u001b[1;31m:\u001b[0m invalid syntax\n"
     ]
    }
   ],
   "source": [
    "#Appending with %%writefile\n",
    "\n",
    "%%writefile -a test.txt\n",
    "\n",
    "This is text being appended to test.txt\n",
    "And another line here."
   ]
  },
  {
   "cell_type": "code",
   "execution_count": 37,
   "metadata": {},
   "outputs": [
    {
     "name": "stdout",
     "output_type": "stream",
     "text": [
      "\n",
      "\n",
      "Hello File!\n",
      "\n",
      "third line\n",
      "\n",
      "This is text being appended to test.txt\n",
      "\n",
      "And another line here.\n"
     ]
    }
   ],
   "source": [
    "for line in open(\"test.txt\"):\n",
    "    print(line)"
   ]
  },
  {
   "cell_type": "code",
   "execution_count": 38,
   "metadata": {},
   "outputs": [
    {
     "name": "stdout",
     "output_type": "stream",
     "text": [
      "\n",
      "\n",
      "Hello File!\n",
      "\n",
      "third line\n",
      "\n",
      "This is text being appended to test.txt\n",
      "\n",
      "And another line here.\n"
     ]
    }
   ],
   "source": [
    "#Pertaining to the first point above\n",
    "\n",
    "for asdf in open(\"test.txt\"):\n",
    "    print(asdf)"
   ]
  },
  {
   "cell_type": "code",
   "execution_count": 39,
   "metadata": {},
   "outputs": [
    {
     "name": "stdout",
     "output_type": "stream",
     "text": [
      "\n",
      "Hello File!\n",
      "third line\n",
      "This is text being appended to test.txt\n",
      "And another line here.\n"
     ]
    }
   ],
   "source": [
    "#Context Managers\n",
    "\n",
    "with open(\"test.txt\",\"r\") as f:\n",
    "    lines = f.read()\n",
    "    print(lines)"
   ]
  },
  {
   "cell_type": "code",
   "execution_count": 40,
   "metadata": {},
   "outputs": [
    {
     "ename": "SyntaxError",
     "evalue": "unterminated string literal (detected at line 3) (252083938.py, line 3)",
     "output_type": "error",
     "traceback": [
      "\u001b[1;36m  Cell \u001b[1;32mIn[40], line 3\u001b[1;36m\u001b[0m\n\u001b[1;33m    print(\"Hello\" world\")\u001b[0m\n\u001b[1;37m                       ^\u001b[0m\n\u001b[1;31mSyntaxError\u001b[0m\u001b[1;31m:\u001b[0m unterminated string literal (detected at line 3)\n"
     ]
    }
   ],
   "source": [
    "#Errors and Exceptions\n",
    "\n",
    "print(\"Hello\" world\")"
   ]
  },
  {
   "cell_type": "code",
   "execution_count": 41,
   "metadata": {},
   "outputs": [
    {
     "data": {
      "text/plain": [
       "-1"
      ]
     },
     "execution_count": 41,
     "metadata": {},
     "output_type": "execute_result"
    }
   ],
   "source": [
    "#Logical Error\n",
    "\n",
    "def mysum(x,y):\n",
    "    return x - y\n",
    "\n",
    "mysum(3,4)"
   ]
  },
  {
   "cell_type": "code",
   "execution_count": 42,
   "metadata": {},
   "outputs": [],
   "source": [
    "#Runtime Errors\n",
    "\n",
    "def my_division(a,b):\n",
    "    return a/b"
   ]
  },
  {
   "cell_type": "code",
   "execution_count": 43,
   "metadata": {},
   "outputs": [],
   "source": [
    "x = 5\n",
    "y = 1"
   ]
  },
  {
   "cell_type": "code",
   "execution_count": 44,
   "metadata": {},
   "outputs": [
    {
     "name": "stdout",
     "output_type": "stream",
     "text": [
      "Division output is:  5.0\n",
      "Proceeding to next steps....\n"
     ]
    }
   ],
   "source": [
    "print(\"Division output is: \",my_division(x,y))\n",
    "print(\"Proceeding to next steps....\")\n",
    "numeric = input(\"Please Entear a number :\")"
   ]
  },
  {
   "cell_type": "code",
   "execution_count": 45,
   "metadata": {},
   "outputs": [],
   "source": [
    "p = 5\n",
    "q = 0"
   ]
  },
  {
   "cell_type": "code",
   "execution_count": 46,
   "metadata": {},
   "outputs": [
    {
     "ename": "ZeroDivisionError",
     "evalue": "division by zero",
     "output_type": "error",
     "traceback": [
      "\u001b[1;31m---------------------------------------------------------------------------\u001b[0m",
      "\u001b[1;31mZeroDivisionError\u001b[0m                         Traceback (most recent call last)",
      "Cell \u001b[1;32mIn[46], line 1\u001b[0m\n\u001b[1;32m----> 1\u001b[0m \u001b[38;5;28mprint\u001b[39m(\u001b[38;5;124m\"\u001b[39m\u001b[38;5;124mDivision output is:\u001b[39m\u001b[38;5;124m\"\u001b[39m,\u001b[43mmy_division\u001b[49m\u001b[43m(\u001b[49m\u001b[43mp\u001b[49m\u001b[43m,\u001b[49m\u001b[43mq\u001b[49m\u001b[43m)\u001b[49m)\n\u001b[0;32m      2\u001b[0m \u001b[38;5;28mprint\u001b[39m(\u001b[38;5;124m\"\u001b[39m\u001b[38;5;124mProceeding to next steps...\u001b[39m\u001b[38;5;124m\"\u001b[39m)\n\u001b[0;32m      3\u001b[0m numeric \u001b[38;5;241m=\u001b[39m \u001b[38;5;28minput\u001b[39m(\u001b[38;5;124m\"\u001b[39m\u001b[38;5;124mPlease Enter a number\u001b[39m\u001b[38;5;124m\"\u001b[39m)\n",
      "Cell \u001b[1;32mIn[42], line 4\u001b[0m, in \u001b[0;36mmy_division\u001b[1;34m(a, b)\u001b[0m\n\u001b[0;32m      3\u001b[0m \u001b[38;5;28;01mdef\u001b[39;00m \u001b[38;5;21mmy_division\u001b[39m(a,b):\n\u001b[1;32m----> 4\u001b[0m     \u001b[38;5;28;01mreturn\u001b[39;00m \u001b[43ma\u001b[49m\u001b[38;5;241;43m/\u001b[39;49m\u001b[43mb\u001b[49m\n",
      "\u001b[1;31mZeroDivisionError\u001b[0m: division by zero"
     ]
    }
   ],
   "source": [
    "print(\"Division output is:\",my_division(p,q))\n",
    "print(\"Proceeding to next steps...\")\n",
    "numeric = input(\"Please Enter a number\")"
   ]
  },
  {
   "cell_type": "code",
   "execution_count": 47,
   "metadata": {},
   "outputs": [
    {
     "name": "stdout",
     "output_type": "stream",
     "text": [
      "Division output is: 5.0\n",
      "Proceeding to next steps....\n",
      "Processing the number you just input!\n"
     ]
    }
   ],
   "source": [
    "#Two main Problems Here\n",
    "\n",
    "#1. User does not understand the error message\n",
    "#2. The program execution stops midway\n",
    "\n",
    "try:\n",
    "    print(\"Division output is:\",my_division(x,y))\n",
    "except:\n",
    "    print(\"You Divided by zero, which is not allowed in my math!\")\n",
    "\n",
    "print(\"Proceeding to next steps....\")\n",
    "numeric = float(input(\"Please Enter a number:\"))\n",
    "print(\"Processing the number you just input!\")"
   ]
  },
  {
   "cell_type": "code",
   "execution_count": 48,
   "metadata": {},
   "outputs": [
    {
     "name": "stdout",
     "output_type": "stream",
     "text": [
      "You divided by zero, which is not allowed in my math!\n",
      "Proceeding to next steps...\n",
      "Processing the number you just input!\n"
     ]
    }
   ],
   "source": [
    "try:\n",
    "    print(\"Division output is: \",my_division(p,q))\n",
    "except Exception:\n",
    "    print(\"You divided by zero, which is not allowed in my math!\")\n",
    "\n",
    "print(\"Proceeding to next steps...\")\n",
    "numeric = float(input(\"Please Enter a number: \"))\n",
    "print(\"Processing the number you just input!\")"
   ]
  },
  {
   "cell_type": "code",
   "execution_count": 49,
   "metadata": {},
   "outputs": [
    {
     "name": "stdout",
     "output_type": "stream",
     "text": [
      "Problem in the code:  division by zero\n",
      "Proceeding to next steps...\n"
     ]
    }
   ],
   "source": [
    "#Except block will only execute if you have an error\n",
    "\n",
    "try:\n",
    "    print(\"Division output is: \",my_division(p,q))\n",
    "except Exception as e:\n",
    "    print(\"Problem in the code: \",e)\n",
    "\n",
    "print(\"Proceeding to next steps...\")\n",
    "numeric = input(\"Please Enter a number: \")"
   ]
  },
  {
   "cell_type": "code",
   "execution_count": 50,
   "metadata": {},
   "outputs": [
    {
     "name": "stdout",
     "output_type": "stream",
     "text": [
      "File Opened!\n",
      "Do something\n",
      "file closed!\n"
     ]
    }
   ],
   "source": [
    "#Case A : Code runs okay\n",
    "\n",
    "try:\n",
    "    print(\"File Opened!\")\n",
    "    print(\"Do something\")\n",
    "    my_division(x,y)\n",
    "    print(\"file closed!\")\n",
    "except Exception as e:\n",
    "    print(\"Something went wrong: \",e)\n",
    "    print(\"File closed through except block!\")"
   ]
  },
  {
   "cell_type": "code",
   "execution_count": 51,
   "metadata": {},
   "outputs": [
    {
     "name": "stdout",
     "output_type": "stream",
     "text": [
      "File Opened!\n",
      "Do something\n",
      "Something went wrong:  division by zero\n",
      "File closed through except block!\n"
     ]
    }
   ],
   "source": [
    "#Case B : Code ha a problem\n",
    "\n",
    "try:\n",
    "    print(\"File Opened!\")\n",
    "    print(\"Do something\")\n",
    "    my_division(p,q)\n",
    "    print(\"file closed!\")\n",
    "except Exception as e:\n",
    "    print(\"Something went wrong: \",e)\n",
    "    print(\"File closed through except block!\")"
   ]
  },
  {
   "cell_type": "code",
   "execution_count": 52,
   "metadata": {},
   "outputs": [
    {
     "name": "stdout",
     "output_type": "stream",
     "text": [
      "File Opened!\n",
      "Do something\n",
      "File closed at last!\n"
     ]
    }
   ],
   "source": [
    "try:\n",
    "    print(\"File Opened!\")\n",
    "    print(\"Do something\")\n",
    "    my_division(1,2)\n",
    "    numeric = int(input(\"Please Enter a number: \")\n",
    "                  )\n",
    "except Exception as e:\n",
    "    print(\"Something went wrong: \",e)\n",
    "\n",
    "finally:\n",
    "    print(\"File closed at last!\")"
   ]
  },
  {
   "cell_type": "code",
   "execution_count": 53,
   "metadata": {},
   "outputs": [
    {
     "name": "stdout",
     "output_type": "stream",
     "text": [
      "File Opened!\n",
      "Do something\n",
      "Something went wrong:  division by zero\n",
      "File closed at last!\n"
     ]
    }
   ],
   "source": [
    "try:\n",
    "    print(\"File Opened!\")\n",
    "    print(\"Do something\")\n",
    "    my_division(1,0)\n",
    "except Exception as e:\n",
    "    print(\"Something went wrong: \",e)\n",
    "\n",
    "finally:\n",
    "    print(\"File closed at last!\")"
   ]
  },
  {
   "cell_type": "code",
   "execution_count": 54,
   "metadata": {},
   "outputs": [
    {
     "name": "stdout",
     "output_type": "stream",
     "text": [
      "File Opened!\n",
      "Do something\n",
      "File closed at last!\n"
     ]
    }
   ],
   "source": [
    "try:\n",
    "    print(\"File Opened!\")\n",
    "    print(\"Do something\")\n",
    "    my_division(x,y)\n",
    "    numeric = int(input(\"Please Enter a number: \"))\n",
    "\n",
    "except ZeroDivisionError as e:\n",
    "    print(\"Something went wrong: \",e)\n",
    "\n",
    "finally:\n",
    "    print(\"File closed at last!\")"
   ]
  },
  {
   "cell_type": "code",
   "execution_count": 55,
   "metadata": {},
   "outputs": [
    {
     "name": "stdout",
     "output_type": "stream",
     "text": [
      "File Opened!\n",
      "Do something\n",
      "File closed at last!\n"
     ]
    }
   ],
   "source": [
    "try:\n",
    "    print(\"File Opened!\")\n",
    "    print(\"Do something\")\n",
    "    my_division(x,y)\n",
    "    numeric = int(input(\"Please Enter a number: \")\n",
    "                  )\n",
    "except ZeroDivisionError as e:\n",
    "    print(\"Something went wrong: \",e)\n",
    "\n",
    "except valueError as e:\n",
    "    print(\"Something went wrong\",e)\n",
    "finally:\n",
    "    print(\"File closed at last!\")"
   ]
  },
  {
   "cell_type": "code",
   "execution_count": 56,
   "metadata": {},
   "outputs": [
    {
     "name": "stdout",
     "output_type": "stream",
     "text": [
      "File Opened!\n",
      "Do something\n",
      "File closed at last!\n"
     ]
    }
   ],
   "source": [
    "try:\n",
    "    print(\"File Opened!\")\n",
    "    print(\"Do something\")\n",
    "    my_division(1,5)\n",
    "    numeric = int(input(\"Please Enter a number: \")\n",
    "                  )\n",
    "except ZeroDivisionError as e:\n",
    "    print(\"Something went wrong: \",e)\n",
    "\n",
    "except ValueError as e:\n",
    "    print(\"Something went wrong\",e)\n",
    "    \n",
    "finally:\n",
    "    print(\"File closed at last!\")"
   ]
  },
  {
   "cell_type": "code",
   "execution_count": 57,
   "metadata": {},
   "outputs": [
    {
     "name": "stdout",
     "output_type": "stream",
     "text": [
      "File Opened!\n",
      "Do something\n",
      "EveryThing went fine!\n",
      "File closed at last!\n"
     ]
    }
   ],
   "source": [
    "try:\n",
    "    print(\"File Opened!\")\n",
    "    print(\"Do something\")\n",
    "    my_division(1,5)\n",
    "    numeric = int(input(\"Please Enter a number: \")\n",
    "                  )\n",
    "except ZeroDivisionError as e:\n",
    "    print(\"Something went wrong: \",e)\n",
    "\n",
    "except ValueError as e:\n",
    "    print(\"Something went wrong\",e)\n",
    "\n",
    "except Exception as e:\n",
    "    print(\"Something went wrong: \",e)\n",
    "\n",
    "else:\n",
    "    print(\"EveryThing went fine!\")\n",
    "    \n",
    "finally:\n",
    "    print(\"File closed at last!\")"
   ]
  },
  {
   "cell_type": "code",
   "execution_count": null,
   "metadata": {},
   "outputs": [],
   "source": []
  }
 ],
 "metadata": {
  "kernelspec": {
   "display_name": "Python 3",
   "language": "python",
   "name": "python3"
  },
  "language_info": {
   "codemirror_mode": {
    "name": "ipython",
    "version": 3
   },
   "file_extension": ".py",
   "mimetype": "text/x-python",
   "name": "python",
   "nbconvert_exporter": "python",
   "pygments_lexer": "ipython3",
   "version": "3.13.0"
  }
 },
 "nbformat": 4,
 "nbformat_minor": 2
}
